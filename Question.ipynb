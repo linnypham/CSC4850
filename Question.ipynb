{
  "nbformat": 4,
  "nbformat_minor": 0,
  "metadata": {
    "colab": {
      "provenance": []
    },
    "kernelspec": {
      "name": "python3",
      "display_name": "Python 3"
    },
    "language_info": {
      "name": "python"
    }
  },
  "cells": [
    {
      "cell_type": "markdown",
      "source": [
        "1. Use the dataset provided in class\n",
        "2. Build and Train Two Models:\n",
        "\n",
        "    One MLP (Fully Connected) model\n",
        "\n",
        "\n",
        "    One CNN or LSTM model (you choose)\n",
        "3. Experiment with Architectures:\n",
        "\n",
        "    Vary the number of layers\n",
        "\n",
        "\n",
        "    Try different activation functions\n",
        "\n",
        "\n",
        "4. Evaluate Models:\n",
        "\n",
        "\n",
        "    Which model performed better and why?"
      ],
      "metadata": {
        "id": "Fh20ckSN9eo5"
      }
    },
    {
      "cell_type": "code",
      "execution_count": null,
      "metadata": {
        "id": "dQi8XqA49b7x"
      },
      "outputs": [],
      "source": []
    }
  ]
}