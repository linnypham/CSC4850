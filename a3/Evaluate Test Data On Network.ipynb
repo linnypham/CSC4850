{
 "cells": [
  {
   "cell_type": "code",
   "execution_count": 1,
   "id": "1645ac60",
   "metadata": {},
   "outputs": [
    {
     "ename": "NameError",
     "evalue": "name 'torch' is not defined",
     "output_type": "error",
     "traceback": [
      "\u001b[1;31m---------------------------------------------------------------------------\u001b[0m",
      "\u001b[1;31mNameError\u001b[0m                                 Traceback (most recent call last)",
      "Cell \u001b[1;32mIn[1], line 2\u001b[0m\n\u001b[0;32m      1\u001b[0m \u001b[38;5;66;03m# Evaluate Model on Test Data Set (validate model on test set)\u001b[39;00m\n\u001b[1;32m----> 2\u001b[0m \u001b[38;5;28;01mwith\u001b[39;00m \u001b[43mtorch\u001b[49m\u001b[38;5;241m.\u001b[39mno_grad():  \u001b[38;5;66;03m# Basically turn off back propogation\u001b[39;00m\n\u001b[0;32m      3\u001b[0m   y_eval \u001b[38;5;241m=\u001b[39m model\u001b[38;5;241m.\u001b[39mforward(X_test) \u001b[38;5;66;03m# X_test are features from our test set, y_eval will be predictions\u001b[39;00m\n\u001b[0;32m      4\u001b[0m   loss \u001b[38;5;241m=\u001b[39m criterion(y_eval, y_test) \u001b[38;5;66;03m# Find the loss or error\u001b[39;00m\n",
      "\u001b[1;31mNameError\u001b[0m: name 'torch' is not defined"
     ]
    }
   ],
   "source": [
    "# Evaluate Model on Test Data Set (validate model on test set)\n",
    "with torch.no_grad():  # Basically turn off back propogation\n",
    "  y_eval = model.forward(X_test) # X_test are features from our test set, y_eval will be predictions\n",
    "  loss = criterion(y_eval, y_test) # Find the loss or error\n",
    "loss"
   ]
  },
  {
   "cell_type": "code",
   "execution_count": null,
   "id": "65969d37",
   "metadata": {},
   "outputs": [],
   "source": [
    "correct = 0\n",
    "with torch.no_grad():\n",
    "  for i, data in enumerate(X_test):\n",
    "    y_val = model.forward(data)\n",
    "\n",
    "    if y_test[i] == 0:\n",
    "      x = \"Setosa\"\n",
    "    elif y_test[i] == 1:\n",
    "      x = 'Versicolor'\n",
    "    else:\n",
    "      x = 'Virginica'\n",
    "\n",
    "\n",
    "    # Will tell us what type of flower class our network thinks it is\n",
    "    print(f'{i+1}.)  {str(y_val)} \\t {y_test[i]} \\t {y_val.argmax().item()}')\n",
    "\n",
    "    # Correct or not\n",
    "    if y_val.argmax().item() == y_test[i]:\n",
    "      correct +=1\n",
    "\n",
    "print(f'We got {correct} correct!')"
   ]
  },
  {
   "cell_type": "code",
   "execution_count": null,
   "id": "efa5584b",
   "metadata": {},
   "outputs": [],
   "source": [
    "new_iris = torch.tensor([4.7, 3.2, 1.3, 0.2])\n",
    "with torch.no_grad():\n",
    "  print(model(new_iris))"
   ]
  },
  {
   "cell_type": "code",
   "execution_count": null,
   "id": "101183d4",
   "metadata": {},
   "outputs": [],
   "source": [
    "newer_iris = torch.tensor([5.9, 3.0, 5.1, 1.8])\n",
    "with torch.no_grad():\n",
    "  print(model(newer_iris))"
   ]
  },
  {
   "cell_type": "code",
   "execution_count": null,
   "id": "cecb71da",
   "metadata": {},
   "outputs": [],
   "source": [
    "# Save our NN Model\n",
    "torch.save(model.state_dict(), 'my_really_awesome_iris_model.pt')\n",
    "# Load the Saved Model\n",
    "new_model = Model()\n",
    "new_model.load_state_dict(torch.load('my_really_awesome_iris_model.pt'))"
   ]
  },
  {
   "cell_type": "code",
   "execution_count": null,
   "id": "d2cc0198",
   "metadata": {},
   "outputs": [],
   "source": [
    "# Make sure it loaded correctly\n",
    "new_model.eval()"
   ]
  }
 ],
 "metadata": {
  "kernelspec": {
   "display_name": "Python 3",
   "language": "python",
   "name": "python3"
  },
  "language_info": {
   "codemirror_mode": {
    "name": "ipython",
    "version": 3
   },
   "file_extension": ".py",
   "mimetype": "text/x-python",
   "name": "python",
   "nbconvert_exporter": "python",
   "pygments_lexer": "ipython3",
   "version": "3.13.0"
  }
 },
 "nbformat": 4,
 "nbformat_minor": 5
}
